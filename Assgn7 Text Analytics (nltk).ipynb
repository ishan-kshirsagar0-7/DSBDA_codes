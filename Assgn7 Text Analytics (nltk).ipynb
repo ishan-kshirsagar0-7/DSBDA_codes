{
 "cells": [
  {
   "cell_type": "markdown",
   "id": "c7221a23",
   "metadata": {},
   "source": [
    "# Step 1 : Import the required libraries"
   ]
  },
  {
   "cell_type": "code",
   "execution_count": 1,
   "id": "892aea77",
   "metadata": {},
   "outputs": [],
   "source": [
    "from textblob import TextBlob\n",
    "import nltk"
   ]
  },
  {
   "cell_type": "code",
   "execution_count": 2,
   "id": "262a98e0",
   "metadata": {},
   "outputs": [
    {
     "data": {
      "text/plain": [
       "TextBlob(\"I have good spelling\")"
      ]
     },
     "execution_count": 2,
     "metadata": {},
     "output_type": "execute_result"
    }
   ],
   "source": [
    "b = TextBlob(\"I havv good speling\")\n",
    "b.correct()"
   ]
  },
  {
   "cell_type": "markdown",
   "id": "e131177a",
   "metadata": {},
   "source": [
    "# Step 2 : Text Analytics"
   ]
  },
  {
   "cell_type": "code",
   "execution_count": 3,
   "id": "3eaddb76",
   "metadata": {},
   "outputs": [
    {
     "data": {
      "text/plain": [
       "WordList(['Beautiful', 'is', 'better', 'than', 'ugly.Explicit', 'is', 'better', 'than', 'implicit.Simple', 'is', 'better', 'than', 'complex'])"
      ]
     },
     "execution_count": 3,
     "metadata": {},
     "output_type": "execute_result"
    }
   ],
   "source": [
    "b1 = TextBlob(\"Beautiful is better than ugly.\"\n",
    "             \"Explicit is better than implicit.\"\n",
    "             \"Simple is better than complex.\")\n",
    "b1.words"
   ]
  },
  {
   "cell_type": "code",
   "execution_count": 4,
   "id": "8105aa99",
   "metadata": {},
   "outputs": [
    {
     "data": {
      "text/plain": [
       "[Sentence(\"Beautiful is better than ugly.Explicit is better than implicit.Simple is better than complex.\")]"
      ]
     },
     "execution_count": 4,
     "metadata": {},
     "output_type": "execute_result"
    }
   ],
   "source": [
    "b1.sentences"
   ]
  },
  {
   "cell_type": "code",
   "execution_count": 5,
   "id": "c193027b",
   "metadata": {},
   "outputs": [
    {
     "data": {
      "text/plain": [
       "WordList(['Use', '4', 'spaces', 'per', 'indentation', 'level'])"
      ]
     },
     "execution_count": 5,
     "metadata": {},
     "output_type": "execute_result"
    }
   ],
   "source": [
    "sentence = TextBlob(\"Use 4 spaces per indentation level\")\n",
    "sentence.words"
   ]
  },
  {
   "cell_type": "code",
   "execution_count": 6,
   "id": "8637b8a8",
   "metadata": {},
   "outputs": [
    {
     "data": {
      "text/plain": [
       "'space'"
      ]
     },
     "execution_count": 6,
     "metadata": {},
     "output_type": "execute_result"
    }
   ],
   "source": [
    "sentence.words[2].singularize()"
   ]
  },
  {
   "cell_type": "code",
   "execution_count": 7,
   "id": "308314d3",
   "metadata": {},
   "outputs": [
    {
     "data": {
      "text/plain": [
       "'levels'"
      ]
     },
     "execution_count": 7,
     "metadata": {},
     "output_type": "execute_result"
    }
   ],
   "source": [
    "sentence.words[5].pluralize()"
   ]
  },
  {
   "cell_type": "code",
   "execution_count": 8,
   "id": "53ebac82",
   "metadata": {},
   "outputs": [
    {
     "name": "stdout",
     "output_type": "stream",
     "text": [
      "And/CC/O/O now/RB/B-ADVP/O for/IN/B-PP/B-PNP something/NN/B-NP/I-PNP completely/RB/B-ADJP/O different/JJ/I-ADJP/O ././O/O\n"
     ]
    }
   ],
   "source": [
    "b2 = TextBlob(\"And now for something completely different.\")\n",
    "print(b2.parse())"
   ]
  },
  {
   "cell_type": "code",
   "execution_count": 9,
   "id": "7466a0c6",
   "metadata": {},
   "outputs": [
    {
     "data": {
      "text/plain": [
       "TextBlob(\"BEAUTIFUL IS BETTER THAN UGLY.EXPLICIT IS BETTER THAN IMPLICIT.SIMPLE IS BETTER THAN COMPLEX.\")"
      ]
     },
     "execution_count": 9,
     "metadata": {},
     "output_type": "execute_result"
    }
   ],
   "source": [
    "b1.upper()"
   ]
  },
  {
   "cell_type": "code",
   "execution_count": 10,
   "id": "c38e0007",
   "metadata": {},
   "outputs": [
    {
     "data": {
      "text/plain": [
       "63"
      ]
     },
     "execution_count": 10,
     "metadata": {},
     "output_type": "execute_result"
    }
   ],
   "source": [
    "b1.find(\"Simple\")"
   ]
  },
  {
   "cell_type": "code",
   "execution_count": 11,
   "id": "7fd72d2a",
   "metadata": {},
   "outputs": [
    {
     "data": {
      "text/plain": [
       "[WordList(['Now', 'is', 'better']),\n",
       " WordList(['is', 'better', 'than']),\n",
       " WordList(['better', 'than', 'never'])]"
      ]
     },
     "execution_count": 11,
     "metadata": {},
     "output_type": "execute_result"
    }
   ],
   "source": [
    "blob = TextBlob(\"Now is better than never\")\n",
    "blob.ngrams(n=3)"
   ]
  },
  {
   "cell_type": "code",
   "execution_count": 12,
   "id": "31d42a4d",
   "metadata": {},
   "outputs": [
    {
     "data": {
      "text/plain": [
       "\"Good day everyone, how are you all today? It's so fun learning data science. Hope you are practising well.\""
      ]
     },
     "execution_count": 12,
     "metadata": {},
     "output_type": "execute_result"
    }
   ],
   "source": [
    "from nltk import tokenize\n",
    "from nltk.tokenize import sent_tokenize\n",
    "\n",
    "text = \"\"\"Good day everyone, how are you all today? It's so fun learning data science. Hope you are practising well.\"\"\"\n",
    "text"
   ]
  },
  {
   "cell_type": "code",
   "execution_count": 13,
   "id": "a3a64664",
   "metadata": {},
   "outputs": [
    {
     "data": {
      "text/plain": [
       "['Good day everyone, how are you all today?',\n",
       " \"It's so fun learning data science.\",\n",
       " 'Hope you are practising well.']"
      ]
     },
     "execution_count": 13,
     "metadata": {},
     "output_type": "execute_result"
    }
   ],
   "source": [
    "tokenized_text = sent_tokenize(text)\n",
    "tokenized_text"
   ]
  },
  {
   "cell_type": "code",
   "execution_count": 14,
   "id": "f3e0beae",
   "metadata": {},
   "outputs": [
    {
     "name": "stdout",
     "output_type": "stream",
     "text": [
      "['Good', 'day', 'everyone', ',', 'how', 'are', 'you', 'all', 'today', '?', 'It', \"'s\", 'so', 'fun', 'learning', 'data', 'science', '.', 'Hope', 'you', 'are', 'practising', 'well', '.']\n"
     ]
    }
   ],
   "source": [
    "from nltk.tokenize import word_tokenize\n",
    "tokenized_words = word_tokenize(text)\n",
    "print(tokenized_words)"
   ]
  },
  {
   "cell_type": "code",
   "execution_count": 15,
   "id": "83395fbc",
   "metadata": {},
   "outputs": [
    {
     "data": {
      "text/plain": [
       "FreqDist({'are': 2, 'you': 2, '.': 2, 'Good': 1, 'day': 1, 'everyone': 1, ',': 1, 'how': 1, 'all': 1, 'today': 1, ...})"
      ]
     },
     "execution_count": 15,
     "metadata": {},
     "output_type": "execute_result"
    }
   ],
   "source": [
    "from nltk.probability import FreqDist\n",
    "fdist = FreqDist(tokenized_words)\n",
    "fdist"
   ]
  },
  {
   "cell_type": "code",
   "execution_count": 16,
   "id": "1158ee85",
   "metadata": {},
   "outputs": [
    {
     "data": {
      "text/plain": [
       "[('are', 2), ('you', 2), ('.', 2), ('Good', 1)]"
      ]
     },
     "execution_count": 16,
     "metadata": {},
     "output_type": "execute_result"
    }
   ],
   "source": [
    "fdist.most_common(4)"
   ]
  },
  {
   "cell_type": "code",
   "execution_count": 17,
   "id": "f53b8dcc",
   "metadata": {},
   "outputs": [
    {
     "data": {
      "image/png": "[encoded data removed]",
      "text/plain": [
       "<Figure size 432x288 with 1 Axes>"
      ]
     },
     "metadata": {
      "needs_background": "light"
     },
     "output_type": "display_data"
    }
   ],
   "source": [
    "import matplotlib.pyplot as plt\n",
    "fdist.plot(30, cumulative=False)\n",
    "plt.show()"
   ]
  },
  {
   "cell_type": "code",
   "execution_count": 18,
   "id": "ecf257b5",
   "metadata": {},
   "outputs": [
    {
     "name": "stdout",
     "output_type": "stream",
     "text": [
      "{'when', 'about', 'herself', 'no', \"hasn't\", \"mustn't\", 'while', 'shan', 'she', 'only', 'is', 'because', 'should', 'will', 'ma', \"haven't\", 'has', 'weren', 'it', 'against', 'where', 'hasn', 'than', 's', 'your', 'isn', 'doesn', \"couldn't\", 'the', 'and', 'during', 'be', 'he', 'same', 'me', 'couldn', 'out', 'there', 'those', 'to', 'yours', 'off', 'd', 'didn', \"she's\", 'do', 'very', 'ain', \"isn't\", 'at', 'such', 'an', 'won', 'you', 'hers', 't', 'between', \"needn't\", 'or', \"won't\", 'down', \"it's\", 'how', 'through', 'had', 'him', 'up', \"aren't\", 'just', 'own', 'before', 'themselves', 'being', \"weren't\", 'does', 'myself', 'wouldn', 'what', \"wasn't\", 'haven', 'if', \"shan't\", 'are', 'shouldn', 'then', 'himself', \"don't\", \"didn't\", \"wouldn't\", 'have', 'more', 'these', 'which', 'its', 'that', 'been', 'did', 'above', 'his', 'don', 'again', 'too', 'on', 'both', \"you'll\", 'were', 'a', 've', 'this', 'from', \"hadn't\", 're', 'not', 'my', 'whom', 'am', 'mightn', 'other', 'some', 'so', \"shouldn't\", 'in', 'yourselves', 'by', 'once', 'wasn', 'ourselves', 'can', 'needn', 'them', 'y', 'any', 'our', 'after', 'ours', 'of', 'below', 'most', 'o', 'hadn', 'for', 'as', 'itself', \"mightn't\", 'why', 'was', 'her', 'i', 'here', 'few', 'who', \"you've\", \"you'd\", 'until', 'over', 'under', 'nor', 'with', 'now', 'they', 'aren', 'all', 'mustn', 'theirs', 'but', \"you're\", 'their', \"should've\", 'm', 'we', 'having', 'yourself', 'll', \"doesn't\", 'each', \"that'll\", 'doing', 'further', 'into'}\n"
     ]
    }
   ],
   "source": [
    "from nltk.corpus import stopwords\n",
    "stop_words = set(stopwords.words('english'))\n",
    "print(stop_words)"
   ]
  },
  {
   "cell_type": "code",
   "execution_count": 19,
   "id": "e66d0d31",
   "metadata": {},
   "outputs": [
    {
     "name": "stdout",
     "output_type": "stream",
     "text": [
      "Tokenized sentence: ['Good', 'day', 'everyone', ',', 'how', 'are', 'you', 'all', 'today', '?', 'It', \"'s\", 'so', 'fun', 'learning', 'data', 'science', '.', 'Hope', 'you', 'are', 'practising', 'well', '.']\n",
      "Filtered sentence: ['Good', 'day', 'everyone', ',', 'today', '?', 'It', \"'s\", 'fun', 'learning', 'data', 'science', '.', 'Hope', 'practising', 'well', '.']\n"
     ]
    }
   ],
   "source": [
    "filtered_sent = []\n",
    "for w in tokenized_words:\n",
    "    if w not in stop_words:\n",
    "        filtered_sent.append(w)\n",
    "        \n",
    "print(f\"Tokenized sentence: {tokenized_words}\")\n",
    "print(f\"Filtered sentence: {filtered_sent}\")"
   ]
  },
  {
   "cell_type": "code",
   "execution_count": 20,
   "id": "c2838f9c",
   "metadata": {},
   "outputs": [
    {
     "name": "stdout",
     "output_type": "stream",
     "text": [
      "Filtered sentence: ['Good', 'day', 'everyone', ',', 'today', '?', 'It', \"'s\", 'fun', 'learning', 'data', 'science', '.', 'Hope', 'practising', 'well', '.']\n",
      "Stemmed sentence: ['good', 'day', 'everyon', ',', 'today', '?', 'it', \"'s\", 'fun', 'learn', 'data', 'scienc', '.', 'hope', 'practis', 'well', '.']\n"
     ]
    }
   ],
   "source": [
    "from nltk.stem import PorterStemmer\n",
    "from nltk.tokenize import sent_tokenize, word_tokenize\n",
    "\n",
    "ps = PorterStemmer()\n",
    "stemmed = []\n",
    "for w in filtered_sent:\n",
    "    stemmed.append(ps.stem(w))\n",
    "    \n",
    "print(f\"Filtered sentence: {filtered_sent}\")\n",
    "print(f\"Stemmed sentence: {stemmed}\")"
   ]
  },
  {
   "cell_type": "code",
   "execution_count": 21,
   "id": "e0eb7c71",
   "metadata": {},
   "outputs": [
    {
     "name": "stdout",
     "output_type": "stream",
     "text": [
      "Lemmatized Word: fly\n",
      "Stemmed Word: fli\n"
     ]
    }
   ],
   "source": [
    "from nltk.stem.wordnet import WordNetLemmatizer\n",
    "lemma = WordNetLemmatizer()\n",
    "word = \"flying\"\n",
    "print(f\"Lemmatized Word: {lemma.lemmatize(word, 'v')}\")\n",
    "print(f\"Stemmed Word: {ps.stem(word)}\")"
   ]
  },
  {
   "cell_type": "code",
   "execution_count": 24,
   "id": "d914edbf",
   "metadata": {},
   "outputs": [
    {
     "data": {
      "text/plain": [
       "['Albert',\n",
       " 'Einstein',\n",
       " 'was',\n",
       " 'born',\n",
       " 'in',\n",
       " 'Ulm',\n",
       " ',',\n",
       " 'Germany',\n",
       " 'in',\n",
       " '1879',\n",
       " '.']"
      ]
     },
     "execution_count": 24,
     "metadata": {},
     "output_type": "execute_result"
    }
   ],
   "source": [
    "sent = \"Albert Einstein was born in Ulm, Germany in 1879.\"\n",
    "tokens = nltk.word_tokenize(sent)\n",
    "tokens"
   ]
  },
  {
   "cell_type": "code",
   "execution_count": 25,
   "id": "920418ad",
   "metadata": {},
   "outputs": [
    {
     "data": {
      "text/plain": [
       "[('Albert', 'NNP'),\n",
       " ('Einstein', 'NNP'),\n",
       " ('was', 'VBD'),\n",
       " ('born', 'VBN'),\n",
       " ('in', 'IN'),\n",
       " ('Ulm', 'NNP'),\n",
       " (',', ','),\n",
       " ('Germany', 'NNP'),\n",
       " ('in', 'IN'),\n",
       " ('1879', 'CD'),\n",
       " ('.', '.')]"
      ]
     },
     "execution_count": 25,
     "metadata": {},
     "output_type": "execute_result"
    }
   ],
   "source": [
    "nltk.pos_tag(tokens)"
   ]
  }
 ],
 "metadata": {
  "kernelspec": {
   "display_name": "Python 3",
   "language": "python",
   "name": "python3"
  },
  "language_info": {
   "codemirror_mode": {
    "name": "ipython",
    "version": 3
   },
   "file_extension": ".py",
   "mimetype": "text/x-python",
   "name": "python",
   "nbconvert_exporter": "python",
   "pygments_lexer": "ipython3",
   "version": "3.9.0"
  }
 },
 "nbformat": 4,
 "nbformat_minor": 5
}
